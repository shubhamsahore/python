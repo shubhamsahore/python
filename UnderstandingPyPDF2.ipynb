{
 "cells": [
  {
   "cell_type": "code",
   "execution_count": 6,
   "id": "4a577187-a50a-482b-a9da-9e42f331ac4a",
   "metadata": {},
   "outputs": [],
   "source": [
    "import PyPDF2 as pdf"
   ]
  },
  {
   "cell_type": "code",
   "execution_count": 8,
   "id": "a64bfaa7-3296-4ce8-b212-acdc94a7261e",
   "metadata": {},
   "outputs": [
    {
     "data": {
      "text/plain": [
       "'3.0.1'"
      ]
     },
     "execution_count": 8,
     "metadata": {},
     "output_type": "execute_result"
    }
   ],
   "source": [
    "pdf.__version__"
   ]
  },
  {
   "cell_type": "code",
   "execution_count": 9,
   "id": "80193b8f-b8c7-48d5-a786-23b618074bd8",
   "metadata": {},
   "outputs": [
    {
     "data": {
      "text/plain": [
       "['DocumentInformation',\n",
       " 'PageObject',\n",
       " 'PageRange',\n",
       " 'PaperSize',\n",
       " 'PasswordType',\n",
       " 'PdfFileMerger',\n",
       " 'PdfFileReader',\n",
       " 'PdfFileWriter',\n",
       " 'PdfMerger',\n",
       " 'PdfReader',\n",
       " 'PdfWriter',\n",
       " 'Transformation',\n",
       " '__all__',\n",
       " '__builtins__',\n",
       " '__cached__',\n",
       " '__doc__',\n",
       " '__file__',\n",
       " '__loader__',\n",
       " '__name__',\n",
       " '__package__',\n",
       " '__path__',\n",
       " '__spec__',\n",
       " '__version__',\n",
       " '__warningregistry__',\n",
       " '_cmap',\n",
       " '_codecs',\n",
       " '_encryption',\n",
       " '_merger',\n",
       " '_page',\n",
       " '_protocols',\n",
       " '_reader',\n",
       " '_security',\n",
       " '_utils',\n",
       " '_version',\n",
       " '_writer',\n",
       " 'constants',\n",
       " 'errors',\n",
       " 'filters',\n",
       " 'generic',\n",
       " 'pagerange',\n",
       " 'papersizes',\n",
       " 'parse_filename_page_ranges',\n",
       " 'types',\n",
       " 'warnings',\n",
       " 'xmp']"
      ]
     },
     "execution_count": 9,
     "metadata": {},
     "output_type": "execute_result"
    }
   ],
   "source": [
    "dir(pdf)"
   ]
  },
  {
   "cell_type": "code",
   "execution_count": 14,
   "id": "593da39b-9111-451e-8e06-f17a7ad559e9",
   "metadata": {},
   "outputs": [],
   "source": [
    "from PyPDF2 import PdfReader, PdfWriter"
   ]
  },
  {
   "cell_type": "code",
   "execution_count": 19,
   "id": "0a04d289-2b2c-4487-b279-92e352f3e9a3",
   "metadata": {},
   "outputs": [],
   "source": [
    "file = open(\"D:\\MBA\\Cover Letters\\Cover Letter _ Shubham Sahore _ World Bank.pdf\", \"rb\")\n",
    "reader = PdfReader(file)"
   ]
  },
  {
   "cell_type": "code",
   "execution_count": 21,
   "id": "4e180169-8fe2-404e-8fac-4c88d6ca830f",
   "metadata": {},
   "outputs": [],
   "source": [
    "info = reader.metadata"
   ]
  },
  {
   "cell_type": "code",
   "execution_count": 22,
   "id": "f4838bd8-4a3d-433e-856c-a7c828c41103",
   "metadata": {},
   "outputs": [
    {
     "data": {
      "text/plain": [
       "{'/Author': 'Shubham Sahore',\n",
       " '/CreationDate': \"D:20240205173459-05'00'\",\n",
       " '/ModDate': \"D:20240205173537-05'00'\",\n",
       " '/Producer': 'Microsoft: Print To PDF',\n",
       " '/Title': 'Microsoft Word - Cover Letter _ World Bank'}"
      ]
     },
     "execution_count": 22,
     "metadata": {},
     "output_type": "execute_result"
    }
   ],
   "source": [
    "info"
   ]
  },
  {
   "cell_type": "code",
   "execution_count": 23,
   "id": "f6e8db1c-ed85-4534-b19a-5df74e34e7a1",
   "metadata": {},
   "outputs": [
    {
     "data": {
      "text/plain": [
       "'Microsoft Word - Cover Letter _ World Bank'"
      ]
     },
     "execution_count": 23,
     "metadata": {},
     "output_type": "execute_result"
    }
   ],
   "source": [
    "info.title"
   ]
  },
  {
   "cell_type": "code",
   "execution_count": 24,
   "id": "b5eafe26-f96c-4b76-8928-57aad82dcb1a",
   "metadata": {},
   "outputs": [
    {
     "data": {
      "text/plain": [
       "'Shubham Sahore'"
      ]
     },
     "execution_count": 24,
     "metadata": {},
     "output_type": "execute_result"
    }
   ],
   "source": [
    "info.author"
   ]
  },
  {
   "cell_type": "code",
   "execution_count": 25,
   "id": "ffbe02fa-663e-45d1-b801-510ae70b362b",
   "metadata": {},
   "outputs": [
    {
     "data": {
      "text/plain": [
       "<PyPDF2._page._VirtualList at 0x19291a9c050>"
      ]
     },
     "execution_count": 25,
     "metadata": {},
     "output_type": "execute_result"
    }
   ],
   "source": [
    "reader.pages"
   ]
  },
  {
   "cell_type": "code",
   "execution_count": 26,
   "id": "015d041b-ddb5-4baa-87ea-2beae4ea9068",
   "metadata": {},
   "outputs": [
    {
     "data": {
      "text/plain": [
       "1"
      ]
     },
     "execution_count": 26,
     "metadata": {},
     "output_type": "execute_result"
    }
   ],
   "source": [
    "len(reader.pages)"
   ]
  },
  {
   "cell_type": "code",
   "execution_count": 28,
   "id": "04dacba3-4e3b-45fc-8953-4b7fc9562c90",
   "metadata": {},
   "outputs": [
    {
     "data": {
      "text/plain": [
       "<bound method PageObject.extractText of {'/Contents': [IndirectObject(11, 0, 1728993985488), IndirectObject(12, 0, 1728993985488), IndirectObject(13, 0, 1728993985488), IndirectObject(14, 0, 1728993985488), IndirectObject(15, 0, 1728993985488), IndirectObject(16, 0, 1728993985488), IndirectObject(17, 0, 1728993985488), IndirectObject(18, 0, 1728993985488)], '/CropBox': [0, 0, 612, 792], '/MediaBox': [0, 0, 612, 792], '/Parent': IndirectObject(5, 0, 1728993985488), '/Resources': {'/Font': {'/C2_0': IndirectObject(34, 0, 1728993985488), '/C2_1': IndirectObject(40, 0, 1728993985488)}, '/ProcSet': ['/PDF', '/Text'], '/XObject': {'/Fm0': IndirectObject(27, 0, 1728993985488)}}, '/Rotate': 0, '/Type': '/Page'}>"
      ]
     },
     "execution_count": 28,
     "metadata": {},
     "output_type": "execute_result"
    }
   ],
   "source": [
    "reader.pages[0].extractText"
   ]
  },
  {
   "cell_type": "code",
   "execution_count": 30,
   "id": "ea730b26-89ce-4d25-8ffc-52f6aa9889df",
   "metadata": {},
   "outputs": [
    {
     "data": {
      "text/plain": [
       "\"The World Bank \\n1818 H Street, NW Washington \\nDC 20433 \\n \\nDear Hiring Manager, \\nI am wriƟng to express my strong interest in the Bank Internship Program (BIP) as adver Ɵsed. With a \\ndiverse background in Opera Ɵons Management, Business Analy Ɵcs, and Strategy, coupled with my \\nhands-on experience in project management and supply chain analysis, I am conﬁdent in my ability \\nto contribute eﬀec Ɵvely to the World Bank's mission and work.  \\nCurrently pursuing an MBA + MSBA at the University of Georgia, I have honed my skills in Opera Ɵons \\nManagement, Business Analy Ɵcs, and Strategy. My academic achievements, including a GPA of 3.88 \\nand a GMAT score of 700, demonstrate my commitment to excell ence. Addi Ɵonally, my involvement \\nas the VP of Events for Net Impact showcases my dedica Ɵon to sustainable prac Ɵces and social \\nimpact, aligning with the values of the World Bank. \\nDuring my tenure at Bharat Petroleum Corpora Ɵon Limited, I excelled in various roles, including \\nProject Manager, Produc Ɵon Engineer, and Supply Chain Analyst. As a Project Manager, I led a team \\nto achieve 100% on- Ɵme comple Ɵon of CAPEX projects and imp lemented strategic changes that \\nsigniﬁcantly reduced procurement costs. In my role as a Produc Ɵon Engineer, I managed a large \\nteam, opƟmized produc Ɵon parameters through data -driven insights, and improved ﬁlling accuracy \\nfrom 35% to 80% using lean six sigma methodologies. As a Supply Chain Analyst, I strategically \\nplanned produc Ɵon capacity, collaborated with the marke Ɵng team to enhance demand forecas Ɵng, \\nand implemented logis Ɵcs strategies that improved on -Ɵme delivery performance and reduced co sts. \\nI bring a robust skill set, including proﬁciency in Python, SQL, R, and various SAP modules. My Lean \\nSix Sigma Green Belt cer ƟﬁcaƟon reﬂects my commitment to con Ɵnuous improvement. I am adept at \\nusing tools such as Project, Excel, PowerPoint, Power BI, and Tableau for data analysis and \\nvisualizaƟon. \\nBeyond my professional exper Ɵse, I am a well -rounded individual with interests in soccer, dance, \\ntrekking, and cooking. I believe these interests contribute to my ability to adapt to diverse \\nenvironments and collaborate eﬀec Ɵvely with a wide range of in dividuals. \\nI am parƟcularly drawn to the World Bank's commitment to diversity and inclusion, and I am eager to \\nbring my unique perspec Ɵve, innova Ɵve ideas, and research experience to the organiza Ɵon. I am \\nconﬁdent that my academic background, professional experience, and passion for sustainable \\ndevelopment align well with the goals of the World Bank. \\nThank you for considering my applica Ɵon. I look forward to the opportunity to contribute to the \\nWorld Bank's impac ƞul work and further discuss how my skills and experiences make me a valuable \\ncandidate for the internship. \\nSincerely, \\n \\n \\nShubham Sahore \\nFull-Time MBA Candidate’ 25 \\nUniversity of Georgia – Terry College of Business \\n\""
      ]
     },
     "execution_count": 30,
     "metadata": {},
     "output_type": "execute_result"
    }
   ],
   "source": [
    "reader.pages[0].extract_text()"
   ]
  },
  {
   "cell_type": "code",
   "execution_count": 32,
   "id": "4643da65-6eee-49c4-a64c-3ef3b41192be",
   "metadata": {},
   "outputs": [],
   "source": [
    "## A function to get metadata\n",
    "\n",
    "def get_pdf_metadata(pdf_path):\n",
    "    with open(pdf_path,\"rb\") as f: ## Once the with block exits, the file is automatically closed,\n",
    "        reader = PdfReader(f)\n",
    "        info = reader.metadata\n",
    "    return info"
   ]
  },
  {
   "cell_type": "code",
   "execution_count": 33,
   "id": "a7231b79-eb77-44ac-ab18-0d1d9edf3934",
   "metadata": {},
   "outputs": [
    {
     "data": {
      "text/plain": [
       "{'/Author': 'Shubham Sahore',\n",
       " '/CreationDate': \"D:20240205173459-05'00'\",\n",
       " '/ModDate': \"D:20240205173537-05'00'\",\n",
       " '/Producer': 'Microsoft: Print To PDF',\n",
       " '/Title': 'Microsoft Word - Cover Letter _ World Bank'}"
      ]
     },
     "execution_count": 33,
     "metadata": {},
     "output_type": "execute_result"
    }
   ],
   "source": [
    "get_pdf_metadata(\"D:\\MBA\\Cover Letters\\Cover Letter _ Shubham Sahore _ World Bank.pdf\")"
   ]
  },
  {
   "cell_type": "code",
   "execution_count": 38,
   "id": "f3b36f83-1ef5-4566-9d46-18bb456c84e0",
   "metadata": {},
   "outputs": [],
   "source": [
    "## Function to extract text from pdf\n",
    "\n",
    "def extract_text_from_pdf(pdf_path):\n",
    "    with open (pdf_path,\"rb\") as f:\n",
    "        reader = PdfReader(f)\n",
    "        result=[]\n",
    "        for i in range (0,len(reader.pages)):\n",
    "            selected_page = reader.pages[i]\n",
    "            text = selected_page.extract_text()\n",
    "            result.append(text)\n",
    "        return ' '.join(result) #convert list to a single doc\n",
    "            "
   ]
  },
  {
   "cell_type": "code",
   "execution_count": 97,
   "id": "37d66ff7-d450-4e25-9b70-4e0a4f07fcf9",
   "metadata": {},
   "outputs": [],
   "source": [
    "## Function to split a pdf into multiple pdf pages\n",
    "import os\n",
    "def split_pdf(pdf_path):\n",
    "    with open(pdf_path,\"rb\") as f:\n",
    "        reader = PdfReader(f)\n",
    "        # get all pages \n",
    "        for page_num in range(0,len(reader.pages)):  ##loop through pages\n",
    "            selected_page = reader.pages[page_num]\n",
    "            # writer to write\n",
    "            writer = PdfWriter()\n",
    "            writer.add_page(selected_page) #embedding of the page\n",
    "            filename = os.path.splitext(pdf_path)[0]\n",
    "            output_filename = f\"{filename}_{page_num+1}.pdf\"\n",
    "            # save and compile to pdf\n",
    "            with open(output_filename,\"wb\") as out:\n",
    "                write.writer(out)\n",
    "            print(\"Created a pdf:{}\".format(output_filename))"
   ]
  },
  {
   "cell_type": "code",
   "execution_count": 109,
   "id": "fb420a45-2bca-42f3-a0a6-b228f1e19391",
   "metadata": {},
   "outputs": [
    {
     "name": "stdout",
     "output_type": "stream",
     "text": [
      "Created a pdf:C:\\Users\\sahor\\OneDrive\\Documents\\mergedpdfs_1.pdf\n",
      "Created a pdf:C:\\Users\\sahor\\OneDrive\\Documents\\mergedpdfs_2.pdf\n",
      "Created a pdf:C:\\Users\\sahor\\OneDrive\\Documents\\mergedpdfs_3.pdf\n"
     ]
    }
   ],
   "source": [
    "split_pdf(r\"C:\\Users\\sahor\\OneDrive\\Documents\\mergedpdfs.pdf\")"
   ]
  },
  {
   "cell_type": "code",
   "execution_count": 84,
   "id": "84803d5a-822c-4350-ba96-82cba90951f6",
   "metadata": {},
   "outputs": [],
   "source": [
    "filename = os.path.splitext(r\"C:\\Users\\sahor\\OneDrive\\Documents\\mergedpdfs.pdf\")[0]"
   ]
  },
  {
   "cell_type": "code",
   "execution_count": 85,
   "id": "c93b47c1-19d5-4f0c-a2aa-cdbc56e784c6",
   "metadata": {},
   "outputs": [
    {
     "data": {
      "text/plain": [
       "'C:\\\\Users\\\\sahor\\\\OneDrive\\\\Documents\\\\mergedpdfs'"
      ]
     },
     "execution_count": 85,
     "metadata": {},
     "output_type": "execute_result"
    }
   ],
   "source": [
    "filename"
   ]
  },
  {
   "cell_type": "code",
   "execution_count": 86,
   "id": "654f93fa-1978-4838-9f7a-1b887d50b963",
   "metadata": {},
   "outputs": [
    {
     "data": {
      "text/plain": [
       "'SHUBHAM SAHORE \\n255 The Preserve Drive | Athens, GA 30606  \\n shubham.sahore@uga.edu  | 762-316-7790 | linkedin.com/shubham-sahore30 \\nEDUCATION \\nUNIVERSITY OF GEORGIA - TERRY COLLEGE OF BUSINESS,  Athens, GA 2023-2025 \\nMBA + MSBA candidate – Operations Management, Business Analytics, Strategy (STEM)  \\n\\uf0b7 GPA: 3.88, GMAT: 700, Terry Excellence Fund Scholarship, Merit based Graduate Assistantship \\n\\uf0b7 VP - Events (Net Impact), Non-Profit Board Fellow – Children First (CASA) \\nNATIONAL INSTITUTE OF TECHNOLOGY, Jalandhar, India  2013-2017 \\nBachelor of Technology (B. Tech) – Instrumentation and Control Engineering  \\n\\uf0b7 GPA 3.50 - Graduated top 7% of the class. \\n\\uf0b7 VP Operations - Prayaas Society, led fundraising and blood donation drives, Tutored children. Varsity Soccer  \\nPROFESSIONAL EXPERIENCE \\nBHARAT PETROLEUM CORPORATION LIMITED,  India 2017-2023 \\nProject Manager (2021-2023) \\n\\uf0b7 Led a team of 17 to achieve 100% on-time completion of ~$250k worth of CAPEX projects, leveraging \\nMicrosoft Project and Gantt charts for real-time task tracking and streamlined milestone management \\n\\uf0b7 Spearheaded procurement operations and analyzed vendor performance via data analysis using SAP modules, \\ncultivated vendor relationships, devised and analyzed KPI, reducing procurement costs by ~20% \\n\\uf0b7 Executed strategic contractual changes transitioning from manpower-based to quantity-based model, \\nreducing contractual costs by 12% \\n\\uf0b7 Pioneered the first ever automatic detection of body leak LPG cylinders in the industry, identifying and \\nremoving defective cylinders from the production line and saving ~$250k /year \\n\\uf0b7 Established an in-house pressure testing facility for LPG cylinders, reducing outsourcing dependency and \\ncutting testing costs by 50%. \\nProduction Engineer (2019-2021)  \\n\\uf0b7 Managed a team of 50+ production staff and fostered a culture of continuous improvement and \\naccountability, achieving 100% market demand fulfillment during peak demand times \\n\\uf0b7 Conducted regression analysis to optimize critical production parameters, including carousel speed and \\nmanpower allocation, leveraging data-driven insights to achieve ~9% increase in productivity \\n\\uf0b7 Identified recurring breakdown issues and conducted root cause analyses, reducing downtime by ~50% \\nthrough improved maintenance scheduling \\n\\uf0b7 Increased filling accuracy from 35% to 80% by applying Lean Six Sigma methodologies through iterative \\nenhancements, cross-functional collaboration, and data-driven analysis \\nSupply Chain Analyst (2017-2019) \\n\\uf0b7 Strategically directed production capacity, workforce, and logistics fleet planning for a ~$100 million revenue \\nterritory spanning 2 states, increasing territory revenue by ~15% over two years \\n\\uf0b7 Collaborated with the marketing team to create an interactive Excel dashboard for demand forecasting, \\nconsistently maintained stock above benchmark levels, driving a ~4.5% market share increase over two years \\n\\uf0b7 Formulated logistics strategies involving route optimization and distributor-supply plant matching that \\ncatapulted on-time delivery performance from 75% to 96%, concurrently reducing delivery costs by 12% \\n\\uf0b7 Revolutionized traceability and accounting for critical spares by implementing inventory management \\nsoftware solution, achieving 100% spare availability and ensuring seamless operations \\nADDITIONAL INFORMATION  \\n\\uf0b7 Skills: Python, SQL, R; Project, Excel, and PowerPoint; SAP; Signavio – Process Mapping; Power BI and Tableau.   \\n\\uf0b7 Certification: Lean Six Sigma Green Belt; CSCMP – Essentials, Demand Planning \\n\\uf0b7 Interests:  Soccer, Dance, Trekking and Cooking '"
      ]
     },
     "execution_count": 86,
     "metadata": {},
     "output_type": "execute_result"
    }
   ],
   "source": [
    "extract_text_from_pdf(\"D:\\MBA\\Resume edits\\Resume _ Shubham _ Sahore _ UGA.pdf\")"
   ]
  },
  {
   "cell_type": "code",
   "execution_count": 99,
   "id": "3d491db3-859b-4284-a3c0-0fd11afcab29",
   "metadata": {},
   "outputs": [],
   "source": [
    "## Split PDF upto a page\n",
    "\n",
    "def get_pdf_upto(pdf_path,start_page: int = 0, stop_page: int=0, output_path = \"output\"):\n",
    "    with open(pdf_path,\"rb\") as f:\n",
    "        reader = PdfReader(f)\n",
    "        writer = PdfWriter()\n",
    "        for page_num in range(start_page, stop_page):\n",
    "            selected_page = reader.pages[page_num]\n",
    "            writer.add_page(selected_page) # prev :: addPage()\n",
    "            filename = os.path.splitext(pdf_path)[0] ## extracts the filename (without the extension) from a given path to a PDF file (pdf_path) using the os.path.splitext() function\n",
    "            output_filename = f\"{filename}_from_{start_page}_to_{stop_page}.pdf\"\n",
    "        with open(output_filename, \"wb\") as out:\n",
    "            writer.write(out)\n",
    "    "
   ]
  },
  {
   "cell_type": "code",
   "execution_count": 101,
   "id": "deca122a-f522-4b4f-a6fe-8f2c7009bf42",
   "metadata": {},
   "outputs": [],
   "source": [
    "get_pdf_upto(r\"C:\\Users\\sahor\\OneDrive\\Documents\\mergedpdfs.pdf\",0,2)"
   ]
  },
  {
   "cell_type": "code",
   "execution_count": 107,
   "id": "79868661-b34d-4b17-b73c-554eef0d728f",
   "metadata": {},
   "outputs": [],
   "source": [
    "def get_last_pdf_page(pdf_path):\n",
    "    with open(pdf_path,\"rb\") as f:\n",
    "        reader = PdfReader(f)\n",
    "        writer = PdfWriter()\n",
    "        last_page = len(reader.pages)-1\n",
    "        selected_page = reader.pages[last_page]\n",
    "        writer.add_page(selected_page)\n",
    "        output_filename =f\"{filename}_{last_page}.pdf\"\n",
    "        with open (output_filename,\"wb\") as out:\n",
    "            writer.write(out)\n",
    "        print(\"Created last page\")"
   ]
  },
  {
   "cell_type": "code",
   "execution_count": 108,
   "id": "a6648d9c-d258-4b4c-92fa-7a947c8433f7",
   "metadata": {},
   "outputs": [
    {
     "name": "stdout",
     "output_type": "stream",
     "text": [
      "Created last page\n"
     ]
    }
   ],
   "source": [
    "get_last_pdf_page(r\"C:\\Users\\sahor\\OneDrive\\Documents\\mergedpdfs.pdf\")"
   ]
  },
  {
   "cell_type": "code",
   "execution_count": 111,
   "id": "3967ced8-b203-4c92-b943-df9d4a2f0c25",
   "metadata": {},
   "outputs": [],
   "source": [
    "### Merge PDFs\n",
    "# get a list of pdf\n",
    "# PdfMerger\n",
    "\n",
    "def fetch_all_pdf_files(parent_folder: str):\n",
    "    target_files =[]\n",
    "    for path,subdirs,files in os.walk(parent_folder):\n",
    "        for name in files:\n",
    "            if name.endswith(\".pdf\"):\n",
    "                target_files.append(os.path.join(path,name))\n",
    "    return target_files"
   ]
  },
  {
   "cell_type": "code",
   "execution_count": 115,
   "id": "64bec84a-c2be-4bff-80e6-b701833ae4a9",
   "metadata": {},
   "outputs": [
    {
     "data": {
      "text/plain": [
       "['C:\\\\Users\\\\sahor\\\\OneDrive\\\\Documents\\\\out\\\\mergedpdfs_1.pdf',\n",
       " 'C:\\\\Users\\\\sahor\\\\OneDrive\\\\Documents\\\\out\\\\mergedpdfs_2.pdf',\n",
       " 'C:\\\\Users\\\\sahor\\\\OneDrive\\\\Documents\\\\out\\\\mergedpdfs_3.pdf']"
      ]
     },
     "execution_count": 115,
     "metadata": {},
     "output_type": "execute_result"
    }
   ],
   "source": [
    "fetch_all_pdf_files(r\"C:\\Users\\sahor\\OneDrive\\Documents\\out\")"
   ]
  },
  {
   "cell_type": "code",
   "execution_count": 128,
   "id": "f1765c4a-14fa-4b7a-a3cd-05437d9ad7a3",
   "metadata": {},
   "outputs": [],
   "source": [
    "from PyPDF2 import PdfMerger"
   ]
  },
  {
   "cell_type": "code",
   "execution_count": 132,
   "id": "84bda0ae-0650-4bc0-836c-6aeed413aef8",
   "metadata": {},
   "outputs": [],
   "source": [
    "def merge_pdf(list_of_pdfs,output_filename = \"final_merged_file.pdf\"):\n",
    "    merger = PdfMerger()\n",
    "    with open(output_filename,\"wb\") as f:\n",
    "        for file in list_of_pdfs:\n",
    "            merger.append(file)\n",
    "        merger.write(f)"
   ]
  },
  {
   "cell_type": "code",
   "execution_count": 133,
   "id": "b8e94305-1c8b-4762-b787-9c26413811e1",
   "metadata": {},
   "outputs": [
    {
     "data": {
      "text/plain": [
       "['C:\\\\Users\\\\sahor\\\\OneDrive\\\\Documents\\\\out\\\\mergedpdfs_1.pdf',\n",
       " 'C:\\\\Users\\\\sahor\\\\OneDrive\\\\Documents\\\\out\\\\mergedpdfs_2.pdf',\n",
       " 'C:\\\\Users\\\\sahor\\\\OneDrive\\\\Documents\\\\out\\\\mergedpdfs_3.pdf']"
      ]
     },
     "execution_count": 133,
     "metadata": {},
     "output_type": "execute_result"
    }
   ],
   "source": [
    "pdf_list = fetch_all_pdf_files(r\"C:\\Users\\sahor\\OneDrive\\Documents\\out\")\n",
    "pdf_list"
   ]
  },
  {
   "cell_type": "code",
   "execution_count": 134,
   "id": "b0593565-85ff-4b30-b018-f6ae7b7e93bd",
   "metadata": {},
   "outputs": [],
   "source": [
    "merge_pdf(pdf_list)"
   ]
  },
  {
   "cell_type": "code",
   "execution_count": 147,
   "id": "813ee465-3da0-46df-83df-16218bbcac45",
   "metadata": {},
   "outputs": [],
   "source": [
    "#### Rotate pdf\n",
    "\n",
    "def rotate_pdf(pdf_path,page_num:int,rotation: int=90):\n",
    "    with open(pdf_path,\"rb\") as f:\n",
    "        reader = PdfReader(f)\n",
    "        writer = PdfWriter()\n",
    "        writer.add_page(reader.pages[page_num])\n",
    "        #rotate\n",
    "        writer.pages[page_num].rotate(rotation)\n",
    "        filename = os.path.splitext(pdf_path)[0]\n",
    "        output_filename = f\"{filename}_rotated_{rotation}.pdf\"\n",
    "        with open(output_filename,\"wb\") as out:\n",
    "            writer.write(out)\n",
    "        print(\"Page rotated to \",rotation,\" degrees\")\n",
    "    "
   ]
  },
  {
   "cell_type": "code",
   "execution_count": 148,
   "id": "04286fdd-f5e5-4268-b567-1238072a5390",
   "metadata": {},
   "outputs": [
    {
     "name": "stdout",
     "output_type": "stream",
     "text": [
      "Page rotated to  90  degrees\n"
     ]
    }
   ],
   "source": [
    "rotate_pdf(r\"C:\\Users\\sahor\\OneDrive\\Documents\\Sahore_Shubham_Resume.pdf\",0)"
   ]
  },
  {
   "cell_type": "code",
   "execution_count": 149,
   "id": "6153c558-d9f9-4d37-907e-aeee39e708ef",
   "metadata": {},
   "outputs": [
    {
     "name": "stdout",
     "output_type": "stream",
     "text": [
      "Page rotated to  180  degrees\n"
     ]
    }
   ],
   "source": [
    "rotate_pdf(r\"C:\\Users\\sahor\\OneDrive\\Documents\\Sahore_Shubham_Resume.pdf\",0,180)"
   ]
  },
  {
   "cell_type": "code",
   "execution_count": null,
   "id": "96e7b343-ef4a-45d5-9c34-dc68319031cc",
   "metadata": {},
   "outputs": [],
   "source": []
  }
 ],
 "metadata": {
  "kernelspec": {
   "display_name": "Python 3 (ipykernel)",
   "language": "python",
   "name": "python3"
  },
  "language_info": {
   "codemirror_mode": {
    "name": "ipython",
    "version": 3
   },
   "file_extension": ".py",
   "mimetype": "text/x-python",
   "name": "python",
   "nbconvert_exporter": "python",
   "pygments_lexer": "ipython3",
   "version": "3.11.8"
  }
 },
 "nbformat": 4,
 "nbformat_minor": 5
}
